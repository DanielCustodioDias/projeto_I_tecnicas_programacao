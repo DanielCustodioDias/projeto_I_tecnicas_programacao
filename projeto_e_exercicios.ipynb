{
 "cells": [
  {
   "cell_type": "markdown",
   "metadata": {},
   "source": [
    "# Mini-Projeto: Simulação de Jogo de Dados | Entrega (11/08 - Sexta-feira)\n",
    "\n",
    "## Objetivo\n",
    "\n",
    "Você tem a tarefa de criar uma simulação para um jogo de dados. Essa simulação tem como objetivo reunir estatísticas para analisar a justiça do jogo, possíveis resultados e fazer previsões sobre jogos futuros.\n",
    "\n",
    "## Desafios do Projeto\n",
    "\n",
    "1. **Simulação de Dados**: Crie uma função que simule o lançamento de dois dados de seis lados (valores de 1 a 6). Esta função deve retornar a soma dos resultados dos dados.\n",
    "\n",
    "2. **Múltiplas Simulações**: Use a função do passo 1 para simular um grande número de jogos de dados (digamos, 1000 jogos). Armazene o resultado de cada jogo em um array NumPy.\n",
    "\n",
    "3. **Análise de Dados**: Agora, vamos analisar os resultados desses jogos. Calcule e imprima o seguinte:\n",
    "- A média dos resultados.\n",
    "- O lançamento máximo e mínimo.\n",
    "- O número de vezes que cada possível lançamento (2, 3, 4, 5, 6, 7, 8, 9, 10, 11 e 12) ocorreu.\n",
    "- Teste de Hipótese: Agora vamos fazer um pouco de teste de hipóteses:\n",
    "  - Supondo um jogo justo (ou seja, todos os lançamentos são igualmente prováveis), o resultado da sua simulação coincide com essa suposição? Por que sim ou por que não?\n",
    "  - O que isso significa para um jogador do jogo de dados?\n",
    "\n",
    "## Entregáveis\n",
    "\n",
    "Link de um repositório no seu GitHub, contendo:\n",
    "- Um script Python (arquivo `.py` ou `.ipynb`) com a sua solução para os três desafios apresentados.\n"
   ]
  },
  {
   "cell_type": "code",
   "execution_count": 144,
   "metadata": {},
   "outputs": [],
   "source": [
    "import numpy as np\n",
    "\n",
    "## DEFININDO A FUNÇÃO\n",
    "def lancamento_dados ():\n",
    "    dado1 = np.random.randint(1,7) ## GERA DE FORMA RANDOMICA DE 1 A 6 UM NÚMERO ALEATÓRIO DADO 1\n",
    "    dado2 = np.random.randint(1,7) ## GERA DE FORMA RANDOMICA DE 1 A 6 UM NÚMERO ALEATÓRIO DADO 2\n",
    "    soma = dado1 + dado2 ## FAZ A SOMA DOS DOIS DADOS.\n",
    "    return soma ## RETORNA O RESULTADO\n",
    "\n",
    "qtd_lanc = int(input('Digite a quantidade de simulaçoes desejadas: '))\n",
    "lista = [] # CRIEI UMA LISTA VAZIA PARA ARMAZENAR OS RESULTADOS.\n",
    "\n",
    "for _ in range(qtd_lanc): #PERCORRE A QTDA DE LANÇAMENTOS E FAZ O INCREMENTO DOS DA SOMA NA LISTA\n",
    "    resultado = lancamento_dados()\n",
    "    lista.append(resultado)\n",
    "\n",
    "resultados = np.array(lista) # CRIA UM ARRAY"
   ]
  },
  {
   "cell_type": "code",
   "execution_count": 145,
   "metadata": {},
   "outputs": [
    {
     "name": "stdout",
     "output_type": "stream",
     "text": [
      "Esse é o valor máximo da soma dos lançamentos 8\n",
      "Esse é o valor mínimo da soma dos lançamentos 8\n",
      "Essa é a média arredondada da soma dos lançamentos 8\n",
      "8 1 100.0 %\n"
     ]
    }
   ],
   "source": [
    "unique_values, counts = np.unique(resultados, return_counts = True) #GERA VALORES UNICOS DO ARRAY E SOMA A QUANTIDADE DE OCORRÊNCIAS\n",
    "\n",
    "print(f'Esse é o valor máximo da soma dos lançamentos {np.max(resultados)}')\n",
    "print(f'Esse é o valor mínimo da soma dos lançamentos {np.min(resultados)}')\n",
    "print(f'Essa é a média arredondada da soma dos lançamentos {round(np.mean(resultados))}')\n",
    "\n",
    "for valor, contagem in zip(unique_values,counts):\n",
    "    print(valor, contagem,(contagem/qtd_lanc)*100,'%')\n",
    "qtd_menor_resultado = np.count_nonzero(resultados == (np.min(resultados)))\n",
    "qtd_maior_resultado = np.count_nonzero(resultados == (np.max(resultados)))\n",
    "media = round(np.mean(resultados))\n",
    "media_cima = round(np.mean(resultados)+1)\n",
    "media_baixo = round(np.mean(resultados)-1)\n",
    "qtd_media = np.count_nonzero(resultados == media)\n",
    "qtd_media_baixo = np.count_nonzero(resultados == media_baixo)\n",
    "qtd_media_acima = np.count_nonzero(resultados == media_cima)"
   ]
  },
  {
   "cell_type": "code",
   "execution_count": 146,
   "metadata": {},
   "outputs": [
    {
     "name": "stdout",
     "output_type": "stream",
     "text": [
      "Com a quantidade de simulações que foi inserido não é possível realizar uma análise mais profunda, refaça a operação e insira simulações acima de 500\n"
     ]
    }
   ],
   "source": [
    "#FAZ A SAÍDA INTELIGENTE DO SISTEMA:\n",
    "\n",
    "if qtd_lanc >=500:\n",
    "    print(f'De acordo com a quantidade de lançamentos que foi de: {qtd_lanc}\\né possível afetir que o resultado mais provável da soma dos lançamentos dos dados é entre {round(np.mean(resultados))-1} e {round(np.mean(resultados))+1}')\n",
    "    print(f'Ou seja para o jogador que estiver fazendo o lançamento\\ndeverá lembrar que o % de as duas facetas serem iguais dessa simulação é de {((qtd_menor_resultado / qtd_lanc)*100)+((qtd_maior_resultado / qtd_lanc)*100)}%')\n",
    "    print(f'Pois os extremos que contemplam a marginalidade dos resultados 2 (1:1) e 12 (6:6) são representados em % da seguinte forma:')\n",
    "    print(f'{np.min(resultados)} : {((qtd_menor_resultado / qtd_lanc)*100)}%')\n",
    "    print(f'{np.max(resultados)} : {((qtd_maior_resultado / qtd_lanc)*100)}%')\n",
    "    print(f'E por outro lado os números: {media_baixo,media,media_cima} representam um acumulado de:')\n",
    "    print(f'{((qtd_media/qtd_lanc)+(qtd_media_baixo/qtd_lanc)+(qtd_media_acima/qtd_lanc))*100}%')\n",
    "else:\n",
    "    print(f'Com a quantidade de simulações que foi inserido não é possível realizar uma análise mais profunda, refaça a operação e insira simulações acima de 500')"
   ]
  },
  {
   "cell_type": "markdown",
   "metadata": {},
   "source": [
    "# Exercícios de fixação (entrega não obrigatória)"
   ]
  },
  {
   "cell_type": "code",
   "execution_count": 71,
   "metadata": {},
   "outputs": [],
   "source": [
    "import numpy as np"
   ]
  },
  {
   "cell_type": "markdown",
   "metadata": {},
   "source": [
    "### 1 | Crie um array com 10 elementos, todos sendo o número 3, usando NumPy\n",
    "> Resposta esperada: [3, 3, 3, 3, 3, 3, 3, 3, 3, 3]"
   ]
  },
  {
   "cell_type": "code",
   "execution_count": 72,
   "metadata": {},
   "outputs": [
    {
     "name": "stdout",
     "output_type": "stream",
     "text": [
      "[3 3 3 3 3 3 3 3 3 3]\n"
     ]
    }
   ],
   "source": [
    "array = np.full(10,3)\n",
    "print(array)"
   ]
  },
  {
   "cell_type": "markdown",
   "metadata": {},
   "source": [
    "### 2 | Crie um array com 20 números aleatórios, e encontre os valores mínimo e máximo naquele array"
   ]
  },
  {
   "cell_type": "code",
   "execution_count": 73,
   "metadata": {},
   "outputs": [
    {
     "name": "stdout",
     "output_type": "stream",
     "text": [
      "Array aleatório: [99 30 83 33 71 13 66 47  6 61  6 74 51 47 94 22 60 91 22 91]\n",
      "Array Minimo 6\n",
      "Array aleatório: 99\n"
     ]
    }
   ],
   "source": [
    "array_2 = np.random.randint(0,101,20)\n",
    "print('Array aleatório:', array_2)\n",
    "print('Array Minimo', np.min(array_2))\n",
    "print('Array aleatório:', np.max(array_2))\n"
   ]
  },
  {
   "cell_type": "markdown",
   "metadata": {},
   "source": [
    "### 3 | Adicione 5 para cada elemento do array do exercício 2"
   ]
  },
  {
   "cell_type": "code",
   "execution_count": 74,
   "metadata": {},
   "outputs": [
    {
     "name": "stdout",
     "output_type": "stream",
     "text": [
      "[104, 35, 88, 38, 76, 18, 71, 52, 11, 66, 11, 79, 56, 52, 99, 27, 65, 96, 27, 96]\n"
     ]
    }
   ],
   "source": [
    "# Resolução\n",
    "new_array = [x + 5 for x in array_2]\n",
    "print(new_array)\n"
   ]
  },
  {
   "cell_type": "markdown",
   "metadata": {},
   "source": [
    "### 4 | Encontre o index do valor máximo do array do exercício anterior"
   ]
  },
  {
   "cell_type": "code",
   "execution_count": 75,
   "metadata": {},
   "outputs": [
    {
     "name": "stdout",
     "output_type": "stream",
     "text": [
      "Esse é o maior índice: 0\n",
      "104\n"
     ]
    }
   ],
   "source": [
    "# Resolução\n",
    "maior_indice = np.argmax(new_array)\n",
    "print(\"Esse é o maior índice:\", maior_indice)\n",
    "print(new_array[maior_indice])"
   ]
  },
  {
   "cell_type": "markdown",
   "metadata": {},
   "source": [
    "### 5 | Crie dois arrays de tamanho 5 com números inteiros aleatórios de 1 a 10, e depois múltiplique um pelo outro"
   ]
  },
  {
   "cell_type": "code",
   "execution_count": 76,
   "metadata": {},
   "outputs": [
    {
     "name": "stdout",
     "output_type": "stream",
     "text": [
      "Array 1:  [ 3  4  8 10  4]\n",
      "Array 1:  [ 3 10  4  5  1]\n"
     ]
    },
    {
     "data": {
      "text/plain": [
       "array([ 9, 40, 32, 50,  4])"
      ]
     },
     "execution_count": 76,
     "metadata": {},
     "output_type": "execute_result"
    }
   ],
   "source": [
    "# Resolução\n",
    "\n",
    "array1 = np.random.randint(1,11,size=5)\n",
    "array2 = np.random.randint(1,11,size=5)\n",
    "resultado = array1 * array2\n",
    "\n",
    "print(\"Array 1: \" , array1)\n",
    "print(\"Array 1: \" , array2)\n",
    "resultado\n"
   ]
  },
  {
   "cell_type": "markdown",
   "metadata": {},
   "source": [
    "### 6 | Crie um array com 10 elementos, todos sendo o número 1, usando NumPy"
   ]
  },
  {
   "cell_type": "code",
   "execution_count": 77,
   "metadata": {},
   "outputs": [
    {
     "data": {
      "text/plain": [
       "array([1, 1, 1, 1, 1, 1, 1, 1, 1, 1])"
      ]
     },
     "execution_count": 77,
     "metadata": {},
     "output_type": "execute_result"
    }
   ],
   "source": [
    "# Resolução\n",
    "\n",
    "array_number_1 = np.ones(10)\n",
    "array_number_1\n",
    "int_array_number_1 = array_number_1.astype(int)\n",
    "int_array_number_1"
   ]
  },
  {
   "cell_type": "markdown",
   "metadata": {},
   "source": [
    "### 7 | Mude o terceiro elemento do array do exercício anterior para o número 5"
   ]
  },
  {
   "cell_type": "code",
   "execution_count": 78,
   "metadata": {},
   "outputs": [
    {
     "data": {
      "text/plain": [
       "array([1, 1, 5, 1, 1, 1, 1, 1, 1, 1])"
      ]
     },
     "execution_count": 78,
     "metadata": {},
     "output_type": "execute_result"
    }
   ],
   "source": [
    "# Resolução\n",
    "\n",
    "int_array_number_1[2] = 5\n",
    "int_array_number_1"
   ]
  },
  {
   "cell_type": "markdown",
   "metadata": {},
   "source": [
    "### 8 | Delete o quinto elemento do array do exercícios 6"
   ]
  },
  {
   "cell_type": "code",
   "execution_count": 79,
   "metadata": {},
   "outputs": [
    {
     "data": {
      "text/plain": [
       "array([1, 1, 5, 1, 1, 1, 1, 1, 1])"
      ]
     },
     "execution_count": 79,
     "metadata": {},
     "output_type": "execute_result"
    }
   ],
   "source": [
    "# Resolução\n",
    "\n",
    "deletando_5_elemento = np.delete(int_array_number_1,4)\n",
    "deletando_5_elemento"
   ]
  },
  {
   "cell_type": "markdown",
   "metadata": {},
   "source": [
    "### 9 | Verifique se o número 5 existe no array do exercício 2"
   ]
  },
  {
   "cell_type": "code",
   "execution_count": 80,
   "metadata": {},
   "outputs": [
    {
     "data": {
      "text/plain": [
       "True"
      ]
     },
     "execution_count": 80,
     "metadata": {},
     "output_type": "execute_result"
    }
   ],
   "source": [
    "# Resolução\n",
    "existe_o_5 = np.any(deletando_5_elemento == 5)\n",
    "existe_o_5"
   ]
  },
  {
   "cell_type": "markdown",
   "metadata": {},
   "source": [
    "### 10 | Crie um array de 0 a 30 em incrementos de 2 usando NumPy"
   ]
  },
  {
   "cell_type": "code",
   "execution_count": 81,
   "metadata": {},
   "outputs": [
    {
     "data": {
      "text/plain": [
       "array([ 0,  2,  4,  6,  8, 10, 12, 14, 16, 18, 20, 22, 24, 26, 28, 30])"
      ]
     },
     "execution_count": 81,
     "metadata": {},
     "output_type": "execute_result"
    }
   ],
   "source": [
    "# Resolução\n",
    "\n",
    "array_incremental = np.arange(0,31,2)\n",
    "array_incremental"
   ]
  }
 ],
 "metadata": {
  "kernelspec": {
   "display_name": "Python 3",
   "language": "python",
   "name": "python3"
  },
  "language_info": {
   "codemirror_mode": {
    "name": "ipython",
    "version": 3
   },
   "file_extension": ".py",
   "mimetype": "text/x-python",
   "name": "python",
   "nbconvert_exporter": "python",
   "pygments_lexer": "ipython3",
   "version": "3.9.13"
  },
  "orig_nbformat": 4
 },
 "nbformat": 4,
 "nbformat_minor": 2
}
